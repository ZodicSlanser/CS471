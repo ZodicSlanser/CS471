{
 "cells": [
  {
   "cell_type": "markdown",
   "id": "b373afd2",
   "metadata": {},
   "source": [
    "## Saif Ad-Din Samir 200346\n",
    "## سيف الدين سمير شناوي 200346"
   ]
  },
  {
   "cell_type": "code",
   "execution_count": 30,
   "id": "d6b557d2",
   "metadata": {},
   "outputs": [],
   "source": [
    "from typing import List, Dict, Any\n",
    "from tabulate import tabulate\n",
    "from anytree import Node, RenderTree"
   ]
  },
  {
   "cell_type": "code",
   "execution_count": 31,
   "id": "43af79e8",
   "metadata": {},
   "outputs": [],
   "source": [
    "class Token:\n",
    "    def __init__(self, token_type: str, value: Any = None):\n",
    "        self.type = token_type\n",
    "        self.value = value\n",
    "\n",
    "    def __repr__(self):\n",
    "        return f\"Token(type={self.type}, value={self.value})\"\n",
    "\n",
    "    def __eq__(self, other: Any) -> bool:\n",
    "        if isinstance(other, Token):\n",
    "            return self.type == other.type and self.value == other.value\n",
    "        return False\n",
    "    \n",
    "    def __str__(self) -> str:\n",
    "        return f\"Token(type={self.type}, value={self.value})\""
   ]
  },
  {
   "cell_type": "code",
   "execution_count": 32,
   "id": "b0127777",
   "metadata": {},
   "outputs": [],
   "source": [
    "class ASTNode:\n",
    "    def __init__(self, node_type: str, value: Any = None, params: List['ASTNode'] = None, body: List['ASTNode'] = None, name=None):\n",
    "        self.type = node_type\n",
    "        self.value = value\n",
    "        self.params = params if params else []\n",
    "        self.body = body if body else []\n",
    "        self.name = name\n",
    "\n",
    "    def __str__(self, level=0) -> str:\n",
    "        ret = f\"{self.type}({self.name}, {self.value})\" if self.value else f\"{self.type}({self.name})\"\n",
    "        if self.params or self.body:\n",
    "            ret += \"[\"\n",
    "            if self.params:\n",
    "                ret += \" \" + \", \".join(param.__str__(level + 1) for param in self.params)\n",
    "            if self.body:\n",
    "                if self.params:\n",
    "                    ret += \" | \"\n",
    "                ret += \" \" + \", \".join(child.__str__(level + 1) for child in self.body)\n",
    "            ret += \"]\"\n",
    "        return ret"
   ]
  },
  {
   "cell_type": "code",
   "execution_count": 33,
   "id": "895688d2",
   "metadata": {},
   "outputs": [],
   "source": [
    "def get_current_char(input_str: str, current: int) -> str:\n",
    "    if current < len(input_str):\n",
    "        return input_str[current]\n",
    "    else:\n",
    "        return None"
   ]
  },
  {
   "cell_type": "code",
   "execution_count": 34,
   "id": "df050690",
   "metadata": {},
   "outputs": [],
   "source": [
    "def tokenizer(input_str: str) -> List[Token]:\n",
    "    current = 0\n",
    "    tokens = []\n",
    "    char_to_token_type = {\n",
    "        '(': 'paren',\n",
    "        ')': 'paren'\n",
    "    }\n",
    "\n",
    "    while current < len(input_str):\n",
    "        char = get_current_char(input_str, current)\n",
    "\n",
    "        if char in char_to_token_type:\n",
    "            tokens.append(Token(char_to_token_type[char], char))\n",
    "        elif char.isdigit():\n",
    "            value = ''\n",
    "            while char.isdigit():\n",
    "                value += char\n",
    "                current += 1\n",
    "                char = get_current_char(input_str, current)\n",
    "            tokens.append(Token('number', int(value)))\n",
    "            continue\n",
    "        elif char == '\"':\n",
    "            current += 1\n",
    "            value = ''\n",
    "            while char != '\"':\n",
    "                value += char\n",
    "                current += 1\n",
    "                char = get_current_char(input_str, current)\n",
    "            tokens.append(Token('string', value))\n",
    "        elif char.isspace():\n",
    "            pass \n",
    "        elif char.isalpha():\n",
    "            value = ''\n",
    "            while char.isalpha():\n",
    "                value += char\n",
    "                current += 1\n",
    "                char = get_current_char(input_str, current)\n",
    "            tokens.append(Token('name', value))\n",
    "        else:\n",
    "            raise TypeError('Unknown character: ' + char)\n",
    "\n",
    "        current += 1\n",
    "    return tokens"
   ]
  },
  {
   "cell_type": "code",
   "execution_count": 35,
   "id": "e0d23b2d",
   "metadata": {},
   "outputs": [],
   "source": [
    "def parser(tokens: List[Token]) -> ASTNode:\n",
    "    current = 0\n",
    "\n",
    "    def parse_node() -> ASTNode:\n",
    "        nonlocal current\n",
    "        token = tokens[current]\n",
    "\n",
    "        if token.type == 'number':\n",
    "            current += 1\n",
    "            return ASTNode('NumberLiteral', value=token.value)\n",
    "        elif token.type == 'string':\n",
    "            current += 1\n",
    "            return ASTNode('StringLiteral', value=token.value)\n",
    "        elif token.type == 'paren' and token.value == '(':\n",
    "            current += 1\n",
    "            token = tokens[current]\n",
    "\n",
    "            node = ASTNode('CallExpression', name=token.value, params=[])\n",
    "\n",
    "            current += 1 \n",
    "            while not (token.type == 'paren' and token.value == ')'):\n",
    "                node.params.append(parse_node())\n",
    "                token = tokens[current]\n",
    "\n",
    "            current += 1\n",
    "            return node\n",
    "        else:\n",
    "            raise TypeError(token.type)\n",
    "\n",
    "    ast = ASTNode('Program', body=[])\n",
    "\n",
    "    while current < len(tokens):\n",
    "        ast.body.append(parse_node())\n",
    "\n",
    "    return ast"
   ]
  },
  {
   "cell_type": "code",
   "execution_count": 36,
   "id": "cc072871",
   "metadata": {},
   "outputs": [],
   "source": [
    "def display_tokens(tokens: List[Token]) -> str:\n",
    "    _table = [(token.type, token.value) for token in tokens]\n",
    "    headers = [\"Type\", \"Value\"]\n",
    "    table = tabulate(_table, headers=headers, tablefmt=\"grid\")\n",
    "    print(table)\n",
    "    return table"
   ]
  },
  {
   "cell_type": "code",
   "execution_count": 37,
   "id": "11b7ecb8",
   "metadata": {},
   "outputs": [],
   "source": [
    "def create_anytree_node(ast_node: ASTNode, parent=None) -> Node:\n",
    "    if ast_node.type == 'NumberLiteral':\n",
    "        node_name = f\"{ast_node.name} ({ast_node.value})\" if ast_node.name else f\"{ast_node.value}\"\n",
    "    else:\n",
    "        node_name = f\"{ast_node.name}\" if ast_node.name else f\"{ast_node.type}\"\n",
    "    node = Node(node_name, parent=parent)\n",
    "    for param in ast_node.params:\n",
    "        create_anytree_node(param, parent=node)\n",
    "    for child in ast_node.body:\n",
    "        create_anytree_node(child, parent=node)\n",
    "    return node"
   ]
  },
  {
   "cell_type": "code",
   "execution_count": 38,
   "id": "dd3271ee",
   "metadata": {},
   "outputs": [],
   "source": [
    "def display_ast_tree(ast: ASTNode) -> str:\n",
    "    root = create_anytree_node(ast)\n",
    "    tree_str = \"\"\n",
    "    for pre, _, node in RenderTree(root):\n",
    "        tree_str += f\"{pre}{node.name}\\n\"\n",
    "    return tree_str"
   ]
  },
  {
   "cell_type": "code",
   "execution_count": 39,
   "id": "7332ad73",
   "metadata": {},
   "outputs": [],
   "source": [
    "input_str = '(subtract 4 (subtract 3 1)) (multiply 10 19) (add 4 (subtract 3 (add 4 2)))'\n",
    "tokens = tokenizer(input_str)\n",
    "ast = parser(tokens)"
   ]
  },
  {
   "cell_type": "code",
   "execution_count": 40,
   "id": "0d3ac455",
   "metadata": {},
   "outputs": [
    {
     "name": "stdout",
     "output_type": "stream",
     "text": [
      "+--------+----------+\n",
      "| Type   | Value    |\n",
      "+========+==========+\n",
      "| paren  | (        |\n",
      "+--------+----------+\n",
      "| name   | subtract |\n",
      "+--------+----------+\n",
      "| number | 4        |\n",
      "+--------+----------+\n",
      "| paren  | (        |\n",
      "+--------+----------+\n",
      "| name   | subtract |\n",
      "+--------+----------+\n",
      "| number | 3        |\n",
      "+--------+----------+\n",
      "| number | 1        |\n",
      "+--------+----------+\n",
      "| paren  | )        |\n",
      "+--------+----------+\n",
      "| paren  | )        |\n",
      "+--------+----------+\n",
      "| paren  | (        |\n",
      "+--------+----------+\n",
      "| name   | multiply |\n",
      "+--------+----------+\n",
      "| number | 10       |\n",
      "+--------+----------+\n",
      "| number | 19       |\n",
      "+--------+----------+\n",
      "| paren  | )        |\n",
      "+--------+----------+\n",
      "| paren  | (        |\n",
      "+--------+----------+\n",
      "| name   | add      |\n",
      "+--------+----------+\n",
      "| number | 4        |\n",
      "+--------+----------+\n",
      "| paren  | (        |\n",
      "+--------+----------+\n",
      "| name   | subtract |\n",
      "+--------+----------+\n",
      "| number | 3        |\n",
      "+--------+----------+\n",
      "| paren  | (        |\n",
      "+--------+----------+\n",
      "| name   | add      |\n",
      "+--------+----------+\n",
      "| number | 4        |\n",
      "+--------+----------+\n",
      "| number | 2        |\n",
      "+--------+----------+\n",
      "| paren  | )        |\n",
      "+--------+----------+\n",
      "| paren  | )        |\n",
      "+--------+----------+\n",
      "| paren  | )        |\n",
      "+--------+----------+\n"
     ]
    },
    {
     "data": {
      "text/plain": [
       "'+--------+----------+\\n| Type   | Value    |\\n+========+==========+\\n| paren  | (        |\\n+--------+----------+\\n| name   | subtract |\\n+--------+----------+\\n| number | 4        |\\n+--------+----------+\\n| paren  | (        |\\n+--------+----------+\\n| name   | subtract |\\n+--------+----------+\\n| number | 3        |\\n+--------+----------+\\n| number | 1        |\\n+--------+----------+\\n| paren  | )        |\\n+--------+----------+\\n| paren  | )        |\\n+--------+----------+\\n| paren  | (        |\\n+--------+----------+\\n| name   | multiply |\\n+--------+----------+\\n| number | 10       |\\n+--------+----------+\\n| number | 19       |\\n+--------+----------+\\n| paren  | )        |\\n+--------+----------+\\n| paren  | (        |\\n+--------+----------+\\n| name   | add      |\\n+--------+----------+\\n| number | 4        |\\n+--------+----------+\\n| paren  | (        |\\n+--------+----------+\\n| name   | subtract |\\n+--------+----------+\\n| number | 3        |\\n+--------+----------+\\n| paren  | (        |\\n+--------+----------+\\n| name   | add      |\\n+--------+----------+\\n| number | 4        |\\n+--------+----------+\\n| number | 2        |\\n+--------+----------+\\n| paren  | )        |\\n+--------+----------+\\n| paren  | )        |\\n+--------+----------+\\n| paren  | )        |\\n+--------+----------+'"
      ]
     },
     "execution_count": 40,
     "metadata": {},
     "output_type": "execute_result"
    }
   ],
   "source": [
    "display_tokens(tokens)"
   ]
  },
  {
   "cell_type": "code",
   "execution_count": 41,
   "id": "16f8b727",
   "metadata": {},
   "outputs": [
    {
     "data": {
      "text/plain": [
       "'Program\\n├── subtract\\n│   ├── 4\\n│   └── subtract\\n│       ├── 3\\n│       └── 1\\n├── multiply\\n│   ├── 10\\n│   └── 19\\n└── add\\n    ├── 4\\n    └── subtract\\n        ├── 3\\n        └── add\\n            ├── 4\\n            └── 2\\n'"
      ]
     },
     "execution_count": 41,
     "metadata": {},
     "output_type": "execute_result"
    }
   ],
   "source": [
    "display_ast_tree(ast)"
   ]
  },
  {
   "cell_type": "code",
   "execution_count": 42,
   "id": "3e7e40b9",
   "metadata": {},
   "outputs": [
    {
     "name": "stdout",
     "output_type": "stream",
     "text": [
      "+--------+----------+\n",
      "| Type   | Value    |\n",
      "+========+==========+\n",
      "| paren  | (        |\n",
      "+--------+----------+\n",
      "| name   | subtract |\n",
      "+--------+----------+\n",
      "| number | 4        |\n",
      "+--------+----------+\n",
      "| paren  | (        |\n",
      "+--------+----------+\n",
      "| name   | subtract |\n",
      "+--------+----------+\n",
      "| number | 3        |\n",
      "+--------+----------+\n",
      "| number | 1        |\n",
      "+--------+----------+\n",
      "| paren  | )        |\n",
      "+--------+----------+\n",
      "| paren  | )        |\n",
      "+--------+----------+\n",
      "| paren  | (        |\n",
      "+--------+----------+\n",
      "| name   | multiply |\n",
      "+--------+----------+\n",
      "| number | 10       |\n",
      "+--------+----------+\n",
      "| number | 19       |\n",
      "+--------+----------+\n",
      "| paren  | )        |\n",
      "+--------+----------+\n",
      "| paren  | (        |\n",
      "+--------+----------+\n",
      "| name   | add      |\n",
      "+--------+----------+\n",
      "| number | 4        |\n",
      "+--------+----------+\n",
      "| paren  | (        |\n",
      "+--------+----------+\n",
      "| name   | subtract |\n",
      "+--------+----------+\n",
      "| number | 3        |\n",
      "+--------+----------+\n",
      "| paren  | (        |\n",
      "+--------+----------+\n",
      "| name   | add      |\n",
      "+--------+----------+\n",
      "| number | 4        |\n",
      "+--------+----------+\n",
      "| number | 2        |\n",
      "+--------+----------+\n",
      "| paren  | )        |\n",
      "+--------+----------+\n",
      "| paren  | )        |\n",
      "+--------+----------+\n",
      "| paren  | )        |\n",
      "+--------+----------+\n"
     ]
    }
   ],
   "source": [
    "with open('output.txt', 'w', encoding='utf-8') as f:\n",
    "    f.write(\"Tokens:\\n\")\n",
    "    f.write(display_tokens(tokens))\n",
    "    f.write(\"\\n\\nAST Tree:\\n\")\n",
    "    f.write(display_ast_tree(ast))"
   ]
  }
 ],
 "metadata": {
  "kernelspec": {
   "display_name": "Python 3",
   "language": "python",
   "name": "python3"
  },
  "language_info": {
   "codemirror_mode": {
    "name": "ipython",
    "version": 3
   },
   "file_extension": ".py",
   "mimetype": "text/x-python",
   "name": "python",
   "nbconvert_exporter": "python",
   "pygments_lexer": "ipython3",
   "version": "3.12.0"
  }
 },
 "nbformat": 4,
 "nbformat_minor": 5
}
